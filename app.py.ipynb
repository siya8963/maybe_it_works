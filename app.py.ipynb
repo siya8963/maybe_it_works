{
  "nbformat": 4,
  "nbformat_minor": 0,
  "metadata": {
    "colab": {
      "provenance": []
    },
    "kernelspec": {
      "name": "python3",
      "display_name": "Python 3"
    },
    "language_info": {
      "name": "python"
    }
  },
  "cells": [
    {
      "cell_type": "code",
      "execution_count": 1,
      "metadata": {
        "colab": {
          "base_uri": "https://localhost:8080/"
        },
        "id": "A8wXH4SkVRk4",
        "outputId": "d57a3e44-6d3a-455e-c846-7ef120fff446"
      },
      "outputs": [
        {
          "output_type": "stream",
          "name": "stdout",
          "text": [
            "Writing app.py\n"
          ]
        }
      ],
      "source": [
        "%%writefile app.py\n",
        "import streamlit as st\n",
        "import pandas as pd\n",
        "import joblib\n",
        "\n",
        "# Load the model and scaler\n",
        "model = joblib.load('rf_model_best.pkl')\n",
        "scaler = joblib.load('scaler.pkl')\n",
        "\n",
        "# Title of the app\n",
        "st.title('Credit Risk Assessment')\n",
        "\n",
        "# Input fields for user to fill in\n",
        "age = st.number_input('Age (numeric)', min_value=0)\n",
        "sex = st.selectbox('Sex', options=['male', 'female'])\n",
        "job = st.selectbox('Job', options=[0, 1, 2, 3])\n",
        "housing = st.selectbox('Housing', options=['own', 'rent', 'free'])\n",
        "saving_accounts = st.selectbox('Saving Accounts', options=['little', 'moderate', 'quite rich', 'rich'])\n",
        "checking_account = st.number_input('Checking Account (in DM)', min_value=0)\n",
        "credit_amount = st.number_input('Credit Amount (in DM)', min_value=0)\n",
        "duration = st.number_input('Duration (in months)', min_value=1)\n",
        "purpose = st.selectbox('Purpose', options=['car', 'furniture/equipment', 'radio/TV', 'domestic appliances', 'repairs', 'education', 'business', 'vacation/others'])\n",
        "\n",
        "# Button to trigger prediction\n",
        "if st.button('Predict'):\n",
        "    # Preprocess input data\n",
        "    input_data = pd.DataFrame({\n",
        "        'Age': [age],\n",
        "        'Sex_male': [1 if sex == 'male' else 0],\n",
        "        'Job_0': [1 if job == 0 else 0],\n",
        "        'Job_1': [1 if job == 1 else 0],\n",
        "        'Job_2': [1 if job == 2 else 0],\n",
        "        'Job_3': [1 if job == 3 else 0],\n",
        "        'Housing_own': [1 if housing == 'own' else 0],\n",
        "        'Housing_rent': [1 if housing == 'rent' else 0],\n",
        "        'Housing_free': [1 if housing == 'free' else 0],\n",
        "        'Saving Accounts_little': [1 if saving_accounts == 'little' else 0],\n",
        "        'Saving Accounts_moderate': [1 if saving_accounts == 'moderate' else 0],\n",
        "        'Saving Accounts_quite rich': [1 if saving_accounts == 'quite rich' else 0],\n",
        "        'Saving Accounts_rich': [1 if saving_accounts == 'rich' else 0],\n",
        "        'Checking Account': [checking_account],\n",
        "        'Credit Amount': [credit_amount],\n",
        "        'Duration': [duration],\n",
        "        'Purpose_car': [1 if purpose == 'car' else 0],\n",
        "        'Purpose_furniture/equipment': [1 if purpose == 'furniture/equipment' else 0],\n",
        "        'Purpose_radio/TV': [1 if purpose == 'radio/TV' else 0],\n",
        "        'Purpose_domestic appliances': [1 if purpose == 'domestic appliances' else 0],\n",
        "        'Purpose_repairs': [1 if purpose == 'repairs' else 0],\n",
        "        'Purpose_education': [1 if purpose == 'education' else 0],\n",
        "        'Purpose_business': [1 if purpose == 'business' else 0],\n",
        "        'Purpose_vacation/others': [1 if purpose == 'vacation/others' else 0]\n",
        "    })\n",
        "\n",
        "    # Scale the input data\n",
        "    input_data_scaled = scaler.transform(input_data)\n",
        "\n",
        "    # Make prediction\n",
        "    prediction = model.predict(input_data_scaled)\n",
        "\n",
        "    # Display the result\n",
        "    risk = 'Low Risk' if prediction[0] == 0 else 'High Risk'\n",
        "    st.success(f'The predicted credit risk is: {risk}')\n"
      ]
    }
  ]
}